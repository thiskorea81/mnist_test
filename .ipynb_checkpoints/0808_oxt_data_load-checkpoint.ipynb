{
 "cells": [
  {
   "cell_type": "code",
   "execution_count": 3,
   "metadata": {
    "scrolled": true
   },
   "outputs": [
    {
     "name": "stdout",
     "output_type": "stream",
     "text": [
      "이미지 갯수: 3000\n",
      "(2400, 784)\n",
      "(2400, 3)\n",
      "(600, 784)\n",
      "(600, 3)\n"
     ]
    }
   ],
   "source": [
    "######\n",
    "######    neural network    \n",
    "######\n",
    "\n",
    "import numpy as np\n",
    "import matplotlib.pyplot as plt\n",
    "\n",
    "import pickle\n",
    "from dataset.oxt import load_oxt\n",
    "\n",
    "(x_train, t_train), (x_test, t_test)=load_oxt(one_hot_label=True)\n",
    "\n",
    "#######################################################################################################\n",
    "###########             피클 데이터 생성                          ######################################\n",
    "#######################################################################################################\n",
    "oxt_data={}\n",
    "oxt_data = {\"x_train\":x_train, \"t_train\":t_train, \"x_test\":x_test, \"t_test\":t_test}\n",
    "\n",
    "with open('oxt_data.pkl', 'wb') as f:\n",
    "    pickle.dump(oxt_data, f)\n",
    "    \n",
    "print(x_train.shape)\n",
    "print(t_train.shape)\n",
    "print(x_test.shape)\n",
    "print(t_test.shape)"
   ]
  },
  {
   "cell_type": "code",
   "execution_count": 5,
   "metadata": {},
   "outputs": [
    {
     "name": "stdout",
     "output_type": "stream",
     "text": [
      "이미지 갯수: 3000\n",
      "(2400, 1, 28, 28)\n",
      "(2400,)\n",
      "(600, 1, 28, 28)\n",
      "(600,)\n"
     ]
    }
   ],
   "source": [
    "######\n",
    "######   cnn\n",
    "######\n",
    "\n",
    "import numpy as np\n",
    "import matplotlib.pyplot as plt\n",
    "\n",
    "import pickle\n",
    "from dataset.oxt import load_oxt\n",
    "\n",
    "(x_train, t_train), (x_test, t_test)=load_oxt(flatten=False)\n",
    "\n",
    "#######################################################################################################\n",
    "###########             피클 데이터 생성                          ######################################\n",
    "#######################################################################################################\n",
    "oxt_data={}\n",
    "oxt_data = {\"x_train\":x_train, \"t_train\":t_train, \"x_test\":x_test, \"t_test\":t_test}\n",
    "\n",
    "with open('oxt_data_cnn.pkl', 'wb') as f:\n",
    "    pickle.dump(oxt_data, f)\n",
    "    \n",
    "print(x_train.shape)\n",
    "print(t_train.shape)\n",
    "print(x_test.shape)\n",
    "print(t_test.shape)"
   ]
  },
  {
   "cell_type": "code",
   "execution_count": null,
   "metadata": {},
   "outputs": [],
   "source": [
    "######################################################################################################\n",
    "##########         피클 데이터를 이용하려면 아래 코드부터 실행하면 됨.                   ################\n",
    "######################################################################################################"
   ]
  },
  {
   "cell_type": "code",
   "execution_count": 26,
   "metadata": {},
   "outputs": [
    {
     "name": "stdout",
     "output_type": "stream",
     "text": [
      "Read data proofing\n",
      "(2400, 784) (2400, 3) (600, 784) (600, 3)\n"
     ]
    }
   ],
   "source": [
    "import pickle\n",
    "\n",
    "with open('oxt_data.pkl', 'rb') as f1:\n",
    "    oxt_data1=pickle.load(f1)\n",
    "    \n",
    "print(\"Read data proofing\")\n",
    "x_train=oxt_data1[\"x_train\"]\n",
    "t_train=oxt_data1['t_train']\n",
    "x_test=oxt_data1['x_test']\n",
    "t_test=oxt_data1['t_test']\n",
    "\n",
    "print(x_train.shape, t_train.shape, x_test.shape, t_test.shape)"
   ]
  },
  {
   "cell_type": "code",
   "execution_count": 14,
   "metadata": {},
   "outputs": [
    {
     "name": "stdout",
     "output_type": "stream",
     "text": [
      "Read data proofing\n",
      "(2400, 1, 28, 28) (2400,) (600, 1, 28, 28) (600,)\n"
     ]
    }
   ],
   "source": [
    "import pickle\n",
    "\n",
    "with open('oxt_data_cnn.pkl', 'rb') as f1:\n",
    "    oxt_data1=pickle.load(f1)\n",
    "    \n",
    "print(\"Read data proofing\")\n",
    "x_train=oxt_data1[\"x_train\"]\n",
    "t_train=oxt_data1['t_train']\n",
    "x_test=oxt_data1['x_test']\n",
    "t_test=oxt_data1['t_test']\n",
    "\n",
    "print(x_train.shape, t_train.shape, x_test.shape, t_test.shape)"
   ]
  },
  {
   "cell_type": "code",
   "execution_count": 30,
   "metadata": {},
   "outputs": [
    {
     "name": "stdout",
     "output_type": "stream",
     "text": [
      "이미지 갯수: 3000\n"
     ]
    }
   ],
   "source": [
    "# 이미지를 하나씩 잘라서 폴더(img)에 저장\n",
    "# 형식: oxt_train(test)_0_000\n",
    "\n",
    "import cv2\n",
    "from PIL import Image\n",
    "from dataset.oxt import load_oxt\n",
    "import numpy as np\n",
    "\n",
    "(x_train, t_train), (x_test, t_test)=load_oxt()\n",
    "\n",
    "train_size=len(x_train)\n",
    "test_size=len(x_test)\n",
    "\n",
    "for i in range(train_size):\n",
    "    img = x_train[i]\n",
    "    img = img.reshape(28, 28)  # 형상을 원래 이미지의 크기로 변형\n",
    "    fname=\"img/oxt_train_%s_%04d.jpg\"%(t_train[i], i)\n",
    "    cv2.imwrite(fname, img)\n",
    "\n",
    "for i in range(test_size):\n",
    "    img = x_test[i]\n",
    "    img = img.reshape(28, 28)  # 형상을 원래 이미지의 크기로 변형\n",
    "    fname=\"img/oxt_test_%s_%04d.jpg\"%(t_test[i], i)\n",
    "    cv2.imwrite(fname, img)"
   ]
  },
  {
   "cell_type": "code",
   "execution_count": 9,
   "metadata": {},
   "outputs": [
    {
     "name": "stdout",
     "output_type": "stream",
     "text": [
      "이미지 갯수: 3000\n",
      "o\n",
      "(784,)\n",
      "(28, 28)\n"
     ]
    }
   ],
   "source": [
    "## 이미지 보여주기\n",
    "\n",
    "from PIL import Image\n",
    "import numpy as np\n",
    "\n",
    "labels=['o', 'x', '△']\n",
    "\n",
    "def img_show(img):\n",
    "    pil_img = Image.fromarray(np.uint8(img))\n",
    "    pil_img.show()\n",
    "\n",
    "(x_train, t_train), (x_test, t_test) = load_oxt(flatten=True)\n",
    "\n",
    "train_size=len(x_train)\n",
    "rand_num=np.random.randint(train_size)\n",
    "\n",
    "img = x_train[rand_num]\n",
    "label = t_train[rand_num]\n",
    "print(labels[label])\n",
    "\n",
    "print(img.shape)  # (784,)\n",
    "img = img.reshape(28, 28)  # 형상을 원래 이미지의 크기로 변형\n",
    "print(img.shape)  # (28, 28)\n",
    "\n",
    "img_show(img)"
   ]
  }
 ],
 "metadata": {
  "kernelspec": {
   "display_name": "Python 3",
   "language": "python",
   "name": "python3"
  },
  "language_info": {
   "codemirror_mode": {
    "name": "ipython",
    "version": 3
   },
   "file_extension": ".py",
   "mimetype": "text/x-python",
   "name": "python",
   "nbconvert_exporter": "python",
   "pygments_lexer": "ipython3",
   "version": "3.8.10"
  }
 },
 "nbformat": 4,
 "nbformat_minor": 5
}
